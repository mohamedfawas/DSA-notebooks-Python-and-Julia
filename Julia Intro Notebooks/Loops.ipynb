{
 "cells": [
  {
   "cell_type": "markdown",
   "id": "83fb9754",
   "metadata": {},
   "source": [
    "# fawas's notebook"
   ]
  },
  {
   "cell_type": "markdown",
   "id": "20ea8a10",
   "metadata": {},
   "source": [
    "### while loops"
   ]
  },
  {
   "cell_type": "raw",
   "id": "03e94685",
   "metadata": {},
   "source": [
    "while *condition*\n",
    "    *loop body*\n",
    "end"
   ]
  },
  {
   "cell_type": "code",
   "execution_count": 1,
   "id": "b6a8fc7e",
   "metadata": {},
   "outputs": [
    {
     "name": "stdout",
     "output_type": "stream",
     "text": [
      "1\n",
      "2\n",
      "3\n",
      "4\n",
      "5\n",
      "6\n",
      "7\n",
      "8\n",
      "9\n",
      "10\n"
     ]
    }
   ],
   "source": [
    "n = 0\n",
    "while n<10\n",
    "    n += 1\n",
    "    println(n)\n",
    "end"
   ]
  },
  {
   "cell_type": "code",
   "execution_count": 2,
   "id": "ce49f1ea",
   "metadata": {},
   "outputs": [
    {
     "data": {
      "text/plain": [
       "10"
      ]
     },
     "execution_count": 2,
     "metadata": {},
     "output_type": "execute_result"
    }
   ],
   "source": [
    "n"
   ]
  },
  {
   "cell_type": "code",
   "execution_count": 8,
   "id": "915120d6",
   "metadata": {},
   "outputs": [
    {
     "data": {
      "text/plain": [
       "5-element Vector{String}:\n",
       " \"Ted\"\n",
       " \"Robyn\"\n",
       " \"Barney\"\n",
       " \"Lily\"\n",
       " \"Marshall\""
      ]
     },
     "execution_count": 8,
     "metadata": {},
     "output_type": "execute_result"
    }
   ],
   "source": [
    "myfriends = [\"Ted\", \"Robyn\", \"Barney\", \"Lily\", \"Marshall\"]"
   ]
  },
  {
   "cell_type": "code",
   "execution_count": 10,
   "id": "d4d47575",
   "metadata": {},
   "outputs": [
    {
     "name": "stdout",
     "output_type": "stream",
     "text": [
      "Ted\n",
      "Robyn\n",
      "Barney\n",
      "Lily\n",
      "Marshall\n"
     ]
    }
   ],
   "source": [
    "i = 1\n",
    "while i <= length(myfriends)\n",
    "    friend = myfriends[i]\n",
    "    println(\"$friend\")\n",
    "    i += 1\n",
    "end"
   ]
  },
  {
   "cell_type": "markdown",
   "id": "dc355a63",
   "metadata": {},
   "source": [
    "### for loops"
   ]
  },
  {
   "cell_type": "raw",
   "id": "573de9a0",
   "metadata": {},
   "source": [
    "for *var* in *loop iterable*\n",
    "    *loop body*\n",
    "end"
   ]
  },
  {
   "cell_type": "code",
   "execution_count": 11,
   "id": "73cddf28",
   "metadata": {},
   "outputs": [
    {
     "name": "stdout",
     "output_type": "stream",
     "text": [
      "1\n",
      "2\n",
      "3\n",
      "4\n",
      "5\n",
      "6\n",
      "7\n",
      "8\n",
      "9\n",
      "10\n"
     ]
    }
   ],
   "source": [
    "for n in 1:10\n",
    "    println(n)\n",
    "end"
   ]
  },
  {
   "cell_type": "code",
   "execution_count": 12,
   "id": "03735196",
   "metadata": {},
   "outputs": [
    {
     "name": "stdout",
     "output_type": "stream",
     "text": [
      "Ted\n",
      "Robyn\n",
      "Barney\n",
      "Lily\n",
      "Marshall\n"
     ]
    }
   ],
   "source": [
    "for friend in myfriends\n",
    "    println(\"$friend\")\n",
    "end"
   ]
  },
  {
   "cell_type": "markdown",
   "id": "61f1c083",
   "metadata": {},
   "source": [
    "Now let's use for loops to create some addition tables, where the value of every entry is the sum of its row and column indices."
   ]
  },
  {
   "cell_type": "code",
   "execution_count": 13,
   "id": "49e46a35",
   "metadata": {},
   "outputs": [
    {
     "data": {
      "text/plain": [
       "(5, 5)"
      ]
     },
     "execution_count": 13,
     "metadata": {},
     "output_type": "execute_result"
    }
   ],
   "source": [
    "m,n = 5,5 "
   ]
  },
  {
   "cell_type": "code",
   "execution_count": 14,
   "id": "dc18c7c6",
   "metadata": {},
   "outputs": [
    {
     "data": {
      "text/plain": [
       "5×5 Matrix{Int64}:\n",
       " 0  0  0  0  0\n",
       " 0  0  0  0  0\n",
       " 0  0  0  0  0\n",
       " 0  0  0  0  0\n",
       " 0  0  0  0  0"
      ]
     },
     "execution_count": 14,
     "metadata": {},
     "output_type": "execute_result"
    }
   ],
   "source": [
    "A = fill(0,(m,n))"
   ]
  },
  {
   "cell_type": "code",
   "execution_count": 15,
   "id": "589be510",
   "metadata": {},
   "outputs": [],
   "source": [
    "for j in 1:n\n",
    "    for i in 1:m\n",
    "        A[i,j] = i+j\n",
    "    end\n",
    "end"
   ]
  },
  {
   "cell_type": "code",
   "execution_count": 16,
   "id": "e11117c5",
   "metadata": {},
   "outputs": [
    {
     "data": {
      "text/plain": [
       "5×5 Matrix{Int64}:\n",
       " 2  3  4  5   6\n",
       " 3  4  5  6   7\n",
       " 4  5  6  7   8\n",
       " 5  6  7  8   9\n",
       " 6  7  8  9  10"
      ]
     },
     "execution_count": 16,
     "metadata": {},
     "output_type": "execute_result"
    }
   ],
   "source": [
    "A"
   ]
  },
  {
   "cell_type": "markdown",
   "id": "e85251ea",
   "metadata": {},
   "source": [
    "Here's some syntactic sugar for the same nested for loop"
   ]
  },
  {
   "cell_type": "code",
   "execution_count": 17,
   "id": "341e6c41",
   "metadata": {},
   "outputs": [
    {
     "data": {
      "text/plain": [
       "5×5 Matrix{Int64}:\n",
       " 0  0  0  0  0\n",
       " 0  0  0  0  0\n",
       " 0  0  0  0  0\n",
       " 0  0  0  0  0\n",
       " 0  0  0  0  0"
      ]
     },
     "execution_count": 17,
     "metadata": {},
     "output_type": "execute_result"
    }
   ],
   "source": [
    "B = fill(0, (m, n))"
   ]
  },
  {
   "cell_type": "code",
   "execution_count": 18,
   "id": "7bd9926f",
   "metadata": {},
   "outputs": [
    {
     "data": {
      "text/plain": [
       "5×5 Matrix{Int64}:\n",
       " 2  3  4  5   6\n",
       " 3  4  5  6   7\n",
       " 4  5  6  7   8\n",
       " 5  6  7  8   9\n",
       " 6  7  8  9  10"
      ]
     },
     "execution_count": 18,
     "metadata": {},
     "output_type": "execute_result"
    }
   ],
   "source": [
    "for j in 1:n, i in 1:m\n",
    "    B[i,j] = i+j\n",
    "end\n",
    "B"
   ]
  },
  {
   "cell_type": "markdown",
   "id": "82aa88e2",
   "metadata": {},
   "source": [
    "The more \"Julia\" way to create this addition table would have been with an array comprehension."
   ]
  },
  {
   "cell_type": "code",
   "execution_count": 19,
   "id": "9b0327d3",
   "metadata": {},
   "outputs": [
    {
     "data": {
      "text/plain": [
       "5×5 Matrix{Int64}:\n",
       " 2  3  4  5   6\n",
       " 3  4  5  6   7\n",
       " 4  5  6  7   8\n",
       " 5  6  7  8   9\n",
       " 6  7  8  9  10"
      ]
     },
     "execution_count": 19,
     "metadata": {},
     "output_type": "execute_result"
    }
   ],
   "source": [
    "C = [i + j for i in 1:m, j in 1:n]"
   ]
  },
  {
   "cell_type": "markdown",
   "id": "07e4fe6d",
   "metadata": {},
   "source": [
    "Loop over integers between 1 and 100 and print their squares."
   ]
  },
  {
   "cell_type": "code",
   "execution_count": 35,
   "id": "64e13e51",
   "metadata": {},
   "outputs": [
    {
     "data": {
      "text/plain": [
       "Dict{Any, Any}()"
      ]
     },
     "execution_count": 35,
     "metadata": {},
     "output_type": "execute_result"
    }
   ],
   "source": [
    "squares = Dict()"
   ]
  },
  {
   "cell_type": "code",
   "execution_count": 38,
   "id": "d78f496f",
   "metadata": {},
   "outputs": [
    {
     "name": "stdout",
     "output_type": "stream",
     "text": [
      "1\n",
      "1\n",
      "2\n",
      "4\n",
      "3\n",
      "9\n",
      "4\n",
      "16\n",
      "5\n",
      "25\n",
      "6\n",
      "36\n",
      "7\n",
      "49\n",
      "8\n",
      "64\n",
      "9\n",
      "81\n",
      "10\n",
      "100\n",
      "11\n",
      "121\n",
      "12\n",
      "144\n",
      "13\n",
      "169\n",
      "14\n",
      "196\n",
      "15\n",
      "225\n",
      "16\n",
      "256\n",
      "17\n",
      "289\n",
      "18\n",
      "324\n",
      "19\n",
      "361\n",
      "20\n",
      "400\n",
      "21\n",
      "441\n",
      "22\n",
      "484\n",
      "23\n",
      "529\n",
      "24\n",
      "576\n",
      "25\n",
      "625\n",
      "26\n",
      "676\n",
      "27\n",
      "729\n",
      "28\n",
      "784\n",
      "29\n",
      "841\n",
      "30\n",
      "900\n",
      "31\n",
      "961\n",
      "32\n",
      "1024\n",
      "33\n",
      "1089\n",
      "34\n",
      "1156\n",
      "35\n",
      "1225\n",
      "36\n",
      "1296\n",
      "37\n",
      "1369\n",
      "38\n",
      "1444\n",
      "39\n",
      "1521\n",
      "40\n",
      "1600\n",
      "41\n",
      "1681\n",
      "42\n",
      "1764\n",
      "43\n",
      "1849\n",
      "44\n",
      "1936\n",
      "45\n",
      "2025\n",
      "46\n",
      "2116\n",
      "47\n",
      "2209\n",
      "48\n",
      "2304\n",
      "49\n",
      "2401\n",
      "50\n",
      "2500\n",
      "51\n",
      "2601\n",
      "52\n",
      "2704\n",
      "53\n",
      "2809\n",
      "54\n",
      "2916\n",
      "55\n",
      "3025\n",
      "56\n",
      "3136\n",
      "57\n",
      "3249\n",
      "58\n",
      "3364\n",
      "59\n",
      "3481\n",
      "60\n",
      "3600\n",
      "61\n",
      "3721\n",
      "62\n",
      "3844\n",
      "63\n",
      "3969\n",
      "64\n",
      "4096\n",
      "65\n",
      "4225\n",
      "66\n",
      "4356\n",
      "67\n",
      "4489\n",
      "68\n",
      "4624\n",
      "69\n",
      "4761\n",
      "70\n",
      "4900\n",
      "71\n",
      "5041\n",
      "72\n",
      "5184\n",
      "73\n",
      "5329\n",
      "74\n",
      "5476\n",
      "75\n",
      "5625\n",
      "76\n",
      "5776\n",
      "77\n",
      "5929\n",
      "78\n",
      "6084\n",
      "79\n",
      "6241\n",
      "80\n",
      "6400\n",
      "81\n",
      "6561\n",
      "82\n",
      "6724\n",
      "83\n",
      "6889\n",
      "84\n",
      "7056\n",
      "85\n",
      "7225\n",
      "86\n",
      "7396\n",
      "87\n",
      "7569\n",
      "88\n",
      "7744\n",
      "89\n",
      "7921\n",
      "90\n",
      "8100\n",
      "91\n",
      "8281\n",
      "92\n",
      "8464\n",
      "93\n",
      "8649\n",
      "94\n",
      "8836\n",
      "95\n",
      "9025\n",
      "96\n",
      "9216\n",
      "97\n",
      "9409\n",
      "98\n",
      "9604\n",
      "99\n",
      "9801\n",
      "100\n",
      "10000\n"
     ]
    }
   ],
   "source": [
    "for i in 1:100\n",
    "    println(i)\n",
    "    println(i^2)\n",
    "    squares[i] = i ^2\n",
    "end"
   ]
  },
  {
   "cell_type": "code",
   "execution_count": null,
   "id": "712e3be4",
   "metadata": {},
   "outputs": [],
   "source": []
  }
 ],
 "metadata": {
  "kernelspec": {
   "display_name": "Julia 1.7.0",
   "language": "julia",
   "name": "julia-1.7"
  },
  "language_info": {
   "file_extension": ".jl",
   "mimetype": "application/julia",
   "name": "julia",
   "version": "1.7.0"
  }
 },
 "nbformat": 4,
 "nbformat_minor": 5
}
