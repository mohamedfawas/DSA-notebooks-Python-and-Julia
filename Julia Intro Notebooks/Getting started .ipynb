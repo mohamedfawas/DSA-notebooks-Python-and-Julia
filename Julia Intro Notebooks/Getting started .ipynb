{
 "cells": [
  {
   "cell_type": "markdown",
   "id": "01462c88",
   "metadata": {},
   "source": [
    "# fawas's julia notebook - 1"
   ]
  },
  {
   "cell_type": "markdown",
   "id": "6acb1b88",
   "metadata": {},
   "source": [
    "### Print "
   ]
  },
  {
   "cell_type": "code",
   "execution_count": 3,
   "id": "887b912e",
   "metadata": {},
   "outputs": [
    {
     "name": "stdout",
     "output_type": "stream",
     "text": [
      "Hai I am fawas \n",
      "Hai I am fawas \n",
      "Hai I am fawas \n",
      "Hai I am fawas \n",
      "Hai I am fawas \n"
     ]
    }
   ],
   "source": [
    "println(\"Hai I am fawas \")\n",
    "println(\"Hai I am fawas \")\n",
    "println(\"Hai I am fawas \")\n",
    "println(\"Hai I am fawas \")\n",
    "println(\"Hai I am fawas \")"
   ]
  },
  {
   "cell_type": "code",
   "execution_count": 4,
   "id": "a11eed05",
   "metadata": {},
   "outputs": [
    {
     "name": "stdout",
     "output_type": "stream",
     "text": [
      "Hai I am fawas Hai I am fawas Hai I am fawas Hai I am fawas Hai I am fawas "
     ]
    }
   ],
   "source": [
    "print(\"Hai I am fawas \")\n",
    "print(\"Hai I am fawas \")\n",
    "print(\"Hai I am fawas \")\n",
    "print(\"Hai I am fawas \")\n",
    "print(\"Hai I am fawas \")"
   ]
  },
  {
   "cell_type": "markdown",
   "id": "fcb24e8f",
   "metadata": {},
   "source": [
    "### How to assign variables"
   ]
  },
  {
   "cell_type": "code",
   "execution_count": 5,
   "id": "b9017c15",
   "metadata": {},
   "outputs": [
    {
     "data": {
      "text/plain": [
       "46"
      ]
     },
     "execution_count": 5,
     "metadata": {},
     "output_type": "execute_result"
    }
   ],
   "source": [
    "my_answer = 46"
   ]
  },
  {
   "cell_type": "code",
   "execution_count": 6,
   "id": "f471214a",
   "metadata": {},
   "outputs": [
    {
     "data": {
      "text/plain": [
       "46"
      ]
     },
     "execution_count": 6,
     "metadata": {},
     "output_type": "execute_result"
    }
   ],
   "source": [
    "my_answer"
   ]
  },
  {
   "cell_type": "code",
   "execution_count": 7,
   "id": "0833a6df",
   "metadata": {},
   "outputs": [
    {
     "data": {
      "text/plain": [
       "Int64"
      ]
     },
     "execution_count": 7,
     "metadata": {},
     "output_type": "execute_result"
    }
   ],
   "source": [
    "typeof(my_answer)"
   ]
  },
  {
   "cell_type": "code",
   "execution_count": 9,
   "id": "661504e9",
   "metadata": {},
   "outputs": [
    {
     "data": {
      "text/plain": [
       "Float64"
      ]
     },
     "execution_count": 9,
     "metadata": {},
     "output_type": "execute_result"
    }
   ],
   "source": [
    "my_pi = 3.14159\n",
    "typeof(my_pi)"
   ]
  },
  {
   "cell_type": "code",
   "execution_count": 10,
   "id": "64c1360c",
   "metadata": {},
   "outputs": [
    {
     "data": {
      "text/plain": [
       "String"
      ]
     },
     "execution_count": 10,
     "metadata": {},
     "output_type": "execute_result"
    }
   ],
   "source": [
    "😺 = \"smiley cat!\"\n",
    "typeof(😺)"
   ]
  },
  {
   "cell_type": "code",
   "execution_count": 11,
   "id": "bd4dea0b",
   "metadata": {},
   "outputs": [
    {
     "data": {
      "text/plain": [
       "1"
      ]
     },
     "execution_count": 11,
     "metadata": {},
     "output_type": "execute_result"
    }
   ],
   "source": [
    "😺 = 1"
   ]
  },
  {
   "cell_type": "code",
   "execution_count": 12,
   "id": "87160548",
   "metadata": {},
   "outputs": [
    {
     "data": {
      "text/plain": [
       "Int64"
      ]
     },
     "execution_count": 12,
     "metadata": {},
     "output_type": "execute_result"
    }
   ],
   "source": [
    "typeof(😺)"
   ]
  },
  {
   "cell_type": "markdown",
   "id": "4d691276",
   "metadata": {},
   "source": [
    "Note: Julia allows us to write super generic code, and 😺 is an example of this."
   ]
  },
  {
   "cell_type": "markdown",
   "id": "d9633243",
   "metadata": {},
   "source": [
    "This allows us to write code like"
   ]
  },
  {
   "cell_type": "code",
   "execution_count": 13,
   "id": "067d1b0c",
   "metadata": {},
   "outputs": [
    {
     "data": {
      "text/plain": [
       "-1"
      ]
     },
     "execution_count": 13,
     "metadata": {},
     "output_type": "execute_result"
    }
   ],
   "source": [
    "😀 = 0\n",
    "😞 = -1"
   ]
  },
  {
   "cell_type": "code",
   "execution_count": 14,
   "id": "82cebdb2",
   "metadata": {},
   "outputs": [
    {
     "data": {
      "text/plain": [
       "true"
      ]
     },
     "execution_count": 14,
     "metadata": {},
     "output_type": "execute_result"
    }
   ],
   "source": [
    "😺 + 😞 == 😀"
   ]
  },
  {
   "cell_type": "markdown",
   "id": "2c1f12e7",
   "metadata": {},
   "source": [
    "### How to comment"
   ]
  },
  {
   "cell_type": "code",
   "execution_count": 15,
   "id": "1ac4ce4a",
   "metadata": {},
   "outputs": [],
   "source": [
    "# You can leave comments on a single line using the pound/hash key"
   ]
  },
  {
   "cell_type": "code",
   "execution_count": 16,
   "id": "f0f3dabe",
   "metadata": {},
   "outputs": [],
   "source": [
    "#=\n",
    "\n",
    "For multi-line comments, \n",
    "use the '#= =#' sequence.\n",
    "\n",
    "=#"
   ]
  },
  {
   "cell_type": "markdown",
   "id": "6f0994ca",
   "metadata": {},
   "source": [
    "### Syntax for basic math"
   ]
  },
  {
   "cell_type": "code",
   "execution_count": 17,
   "id": "9571fd7e",
   "metadata": {},
   "outputs": [
    {
     "data": {
      "text/plain": [
       "10"
      ]
     },
     "execution_count": 17,
     "metadata": {},
     "output_type": "execute_result"
    }
   ],
   "source": [
    "sum = 3 + 7"
   ]
  },
  {
   "cell_type": "code",
   "execution_count": 18,
   "id": "170f28ac",
   "metadata": {},
   "outputs": [
    {
     "data": {
      "text/plain": [
       "7"
      ]
     },
     "execution_count": 18,
     "metadata": {},
     "output_type": "execute_result"
    }
   ],
   "source": [
    "difference = 10 - 3"
   ]
  },
  {
   "cell_type": "code",
   "execution_count": 19,
   "id": "e8cad920",
   "metadata": {},
   "outputs": [
    {
     "data": {
      "text/plain": [
       "100"
      ]
     },
     "execution_count": 19,
     "metadata": {},
     "output_type": "execute_result"
    }
   ],
   "source": [
    "product = 20 * 5"
   ]
  },
  {
   "cell_type": "code",
   "execution_count": 20,
   "id": "1a0abe2c",
   "metadata": {},
   "outputs": [
    {
     "data": {
      "text/plain": [
       "10.0"
      ]
     },
     "execution_count": 20,
     "metadata": {},
     "output_type": "execute_result"
    }
   ],
   "source": [
    "quotient = 100 / 10"
   ]
  },
  {
   "cell_type": "code",
   "execution_count": 21,
   "id": "41bf5f95",
   "metadata": {},
   "outputs": [
    {
     "data": {
      "text/plain": [
       "100"
      ]
     },
     "execution_count": 21,
     "metadata": {},
     "output_type": "execute_result"
    }
   ],
   "source": [
    "power = 10 ^ 2"
   ]
  },
  {
   "cell_type": "code",
   "execution_count": 22,
   "id": "61430f66",
   "metadata": {},
   "outputs": [
    {
     "data": {
      "text/plain": [
       "1"
      ]
     },
     "execution_count": 22,
     "metadata": {},
     "output_type": "execute_result"
    }
   ],
   "source": [
    "modulus = 101 % 2"
   ]
  },
  {
   "cell_type": "markdown",
   "id": "9c5cb735",
   "metadata": {},
   "source": [
    "## Exercises"
   ]
  },
  {
   "cell_type": "markdown",
   "id": "3c1a8e46",
   "metadata": {},
   "source": [
    "Look up docs for the convert function."
   ]
  },
  {
   "cell_type": "code",
   "execution_count": 23,
   "id": "5cd1790a",
   "metadata": {},
   "outputs": [
    {
     "data": {
      "text/plain": [
       "3"
      ]
     },
     "execution_count": 23,
     "metadata": {},
     "output_type": "execute_result"
    }
   ],
   "source": [
    "convert(Int, 3.0)"
   ]
  },
  {
   "cell_type": "code",
   "execution_count": 25,
   "id": "ef05fa03",
   "metadata": {},
   "outputs": [
    {
     "data": {
      "text/plain": [
       "5.0"
      ]
     },
     "execution_count": 25,
     "metadata": {},
     "output_type": "execute_result"
    }
   ],
   "source": [
    "a = 5.00"
   ]
  },
  {
   "cell_type": "code",
   "execution_count": 26,
   "id": "82db745e",
   "metadata": {},
   "outputs": [
    {
     "data": {
      "text/plain": [
       "5"
      ]
     },
     "execution_count": 26,
     "metadata": {},
     "output_type": "execute_result"
    }
   ],
   "source": [
    "b = convert(Int,a)"
   ]
  },
  {
   "cell_type": "code",
   "execution_count": 28,
   "id": "e0f99622",
   "metadata": {},
   "outputs": [
    {
     "data": {
      "text/plain": [
       "Int64"
      ]
     },
     "execution_count": 28,
     "metadata": {},
     "output_type": "execute_result"
    }
   ],
   "source": [
    "typeof(b)"
   ]
  },
  {
   "cell_type": "markdown",
   "id": "b90c4851",
   "metadata": {},
   "source": [
    "Assign 365 to a variable named days. Convert days to a float and assign it to variable days_float"
   ]
  },
  {
   "cell_type": "code",
   "execution_count": 29,
   "id": "3fb24c25",
   "metadata": {},
   "outputs": [
    {
     "data": {
      "text/plain": [
       "365"
      ]
     },
     "execution_count": 29,
     "metadata": {},
     "output_type": "execute_result"
    }
   ],
   "source": [
    "days = 365"
   ]
  },
  {
   "cell_type": "code",
   "execution_count": 32,
   "id": "3746d0a2",
   "metadata": {},
   "outputs": [
    {
     "data": {
      "text/plain": [
       "Float16(365.0)"
      ]
     },
     "execution_count": 32,
     "metadata": {},
     "output_type": "execute_result"
    }
   ],
   "source": [
    "days_float = convert(Float16,days)"
   ]
  },
  {
   "cell_type": "code",
   "execution_count": 37,
   "id": "ace3318b",
   "metadata": {},
   "outputs": [],
   "source": [
    "@assert days == 365"
   ]
  },
  {
   "cell_type": "markdown",
   "id": "d0e76048",
   "metadata": {},
   "source": [
    "The actual definition of @assert in Julia Base is more complicated. It allows the user to optionally specify their own error message, instead of just printing the failed expression."
   ]
  },
  {
   "cell_type": "code",
   "execution_count": 34,
   "id": "4751b471",
   "metadata": {},
   "outputs": [
    {
     "data": {
      "text/plain": [
       "365"
      ]
     },
     "execution_count": 34,
     "metadata": {},
     "output_type": "execute_result"
    }
   ],
   "source": [
    "days "
   ]
  },
  {
   "cell_type": "code",
   "execution_count": 35,
   "id": "44ba45e7",
   "metadata": {},
   "outputs": [],
   "source": [
    "@assert days_float == convert(Float16,days)"
   ]
  },
  {
   "cell_type": "code",
   "execution_count": 36,
   "id": "d6fd873f",
   "metadata": {},
   "outputs": [
    {
     "data": {
      "text/plain": [
       "Float16(365.0)"
      ]
     },
     "execution_count": 36,
     "metadata": {},
     "output_type": "execute_result"
    }
   ],
   "source": [
    "days_float"
   ]
  },
  {
   "cell_type": "code",
   "execution_count": null,
   "id": "76f13963",
   "metadata": {},
   "outputs": [],
   "source": []
  }
 ],
 "metadata": {
  "kernelspec": {
   "display_name": "Julia 1.7.0",
   "language": "julia",
   "name": "julia-1.7"
  },
  "language_info": {
   "file_extension": ".jl",
   "mimetype": "application/julia",
   "name": "julia",
   "version": "1.7.0"
  }
 },
 "nbformat": 4,
 "nbformat_minor": 5
}
